{
 "cells": [
  {
   "cell_type": "code",
   "execution_count": null,
   "metadata": {},
   "outputs": [],
   "source": [
    "# -*- coding: utf-8 -*-\n",
    "\n",
    "\"\"\"\n",
    "past_analysis_script.py- Analyzes the performance of drivers at a specified circuit.  \n",
    "\"\"\"\n",
    "\n",
    "__author__ = \"Austin Lopez\"\n",
    "__version__ = \"1.2\"\n",
    "__email__ = \"lopezaj88@gmail.com\"\n",
    "__status__ = \"Testing\"\n",
    "\n",
    "import fastf1 as ff1\n",
    "from fastf1 import plotting\n",
    "import matplotlib.pyplot as plt\n",
    "\n",
    "# Define Variables\n",
    "year = 2024\n",
    "grandPrix = 'Sao Paulo'\n",
    "\n",
    "# Load the session data\n",
    "race = ff1.get_session(year, grandPrix, 'R')  \n",
    "race.load()  "
   ]
  },
  {
   "cell_type": "code",
   "execution_count": 3,
   "metadata": {},
   "outputs": [
    {
     "name": "stdout",
     "output_type": "stream",
     "text": [
      "   DriverNumber BroadcastName Abbreviation        DriverId         TeamName  \\\n",
      "1             1  M VERSTAPPEN          VER  max_verstappen  Red Bull Racing   \n",
      "31           31        E OCON          OCO            ocon           Alpine   \n",
      "10           10       P GASLY          GAS           gasly           Alpine   \n",
      "63           63     G RUSSELL          RUS         russell         Mercedes   \n",
      "16           16     C LECLERC          LEC         leclerc          Ferrari   \n",
      "4             4      L NORRIS          NOR          norris          McLaren   \n",
      "22           22     Y TSUNODA          TSU         tsunoda               RB   \n",
      "81           81     O PIASTRI          PIA         piastri          McLaren   \n",
      "30           30      L LAWSON          LAW          lawson               RB   \n",
      "44           44    L HAMILTON          HAM        hamilton         Mercedes   \n",
      "11           11       S PEREZ          PER           perez  Red Bull Racing   \n",
      "50           50     O BEARMAN          BEA         bearman     Haas F1 Team   \n",
      "77           77      V BOTTAS          BOT          bottas      Kick Sauber   \n",
      "14           14      F ALONSO          ALO          alonso     Aston Martin   \n",
      "24           24        G ZHOU          ZHO            zhou      Kick Sauber   \n",
      "55           55       C SAINZ          SAI           sainz          Ferrari   \n",
      "43           43   F COLAPINTO          COL       colapinto         Williams   \n",
      "23           23       A ALBON          ALB           albon         Williams   \n",
      "18           18      L STROLL          STR          stroll     Aston Martin   \n",
      "27           27  N HULKENBERG          HUL      hulkenberg     Haas F1 Team   \n",
      "\n",
      "   TeamColor        TeamId  FirstName    LastName          FullName  ...  \\\n",
      "1     3671C6      red_bull        Max  Verstappen    Max Verstappen  ...   \n",
      "31    0093cc        alpine    Esteban        Ocon      Esteban Ocon  ...   \n",
      "10    0093cc        alpine     Pierre       Gasly      Pierre Gasly  ...   \n",
      "63    27F4D2      mercedes     George     Russell    George Russell  ...   \n",
      "16    E80020       ferrari    Charles     Leclerc   Charles Leclerc  ...   \n",
      "4     FF8000       mclaren      Lando      Norris      Lando Norris  ...   \n",
      "22    6692FF            rb       Yuki     Tsunoda      Yuki Tsunoda  ...   \n",
      "81    FF8000       mclaren      Oscar     Piastri     Oscar Piastri  ...   \n",
      "30    6692FF            rb       Liam      Lawson       Liam Lawson  ...   \n",
      "44    27F4D2      mercedes      Lewis    Hamilton    Lewis Hamilton  ...   \n",
      "11    3671C6      red_bull     Sergio       Perez      Sergio Perez  ...   \n",
      "50    B6BABD          haas     Oliver     Bearman    Oliver Bearman  ...   \n",
      "77    52e252        sauber   Valtteri      Bottas   Valtteri Bottas  ...   \n",
      "14    229971  aston_martin   Fernando      Alonso   Fernando Alonso  ...   \n",
      "24    52e252        sauber     Guanyu        Zhou       Guanyu Zhou  ...   \n",
      "55    E80020       ferrari     Carlos       Sainz      Carlos Sainz  ...   \n",
      "43    64C4FF      williams     Franco   Colapinto  Franco Colapinto  ...   \n",
      "23    64C4FF      williams  Alexander       Albon   Alexander Albon  ...   \n",
      "18    229971  aston_martin      Lance      Stroll      Lance Stroll  ...   \n",
      "27    B6BABD          haas       Nico  Hulkenberg   Nico Hulkenberg  ...   \n",
      "\n",
      "   CountryCode Position  ClassifiedPosition GridPosition  Q1  Q2  Q3  \\\n",
      "1          NED      1.0                   1         17.0 NaT NaT NaT   \n",
      "31         FRA      2.0                   2          4.0 NaT NaT NaT   \n",
      "10         FRA      3.0                   3         13.0 NaT NaT NaT   \n",
      "63         GBR      4.0                   4          2.0 NaT NaT NaT   \n",
      "16         MON      5.0                   5          6.0 NaT NaT NaT   \n",
      "4          GBR      6.0                   6          1.0 NaT NaT NaT   \n",
      "22         JPN      7.0                   7          3.0 NaT NaT NaT   \n",
      "81         AUS      8.0                   8          8.0 NaT NaT NaT   \n",
      "30         NZL      9.0                   9          5.0 NaT NaT NaT   \n",
      "44         GBR     10.0                  10         14.0 NaT NaT NaT   \n",
      "11         MEX     11.0                  11         12.0 NaT NaT NaT   \n",
      "50         GBR     12.0                  12         15.0 NaT NaT NaT   \n",
      "77         FIN     13.0                  13         11.0 NaT NaT NaT   \n",
      "14         ESP     14.0                  14          9.0 NaT NaT NaT   \n",
      "24         CHN     15.0                  15         19.0 NaT NaT NaT   \n",
      "55         ESP     16.0                   R          0.0 NaT NaT NaT   \n",
      "43         ARG     17.0                   R         16.0 NaT NaT NaT   \n",
      "23         THA     18.0                   W          7.0 NaT NaT NaT   \n",
      "18         CAN     19.0                   W         10.0 NaT NaT NaT   \n",
      "27         GER     20.0                   D         17.0 NaT NaT NaT   \n",
      "\n",
      "                     Time        Status Points  \n",
      "1  0 days 02:06:54.430000      Finished   26.0  \n",
      "31 0 days 00:00:19.477000      Finished   18.0  \n",
      "10 0 days 00:00:22.532000      Finished   15.0  \n",
      "63 0 days 00:00:23.265000      Finished   12.0  \n",
      "16 0 days 00:00:30.177000      Finished   10.0  \n",
      "4  0 days 00:00:31.372000      Finished    8.0  \n",
      "22 0 days 00:00:42.056000      Finished    6.0  \n",
      "81 0 days 00:00:44.943000      Finished    4.0  \n",
      "30 0 days 00:00:50.452000      Finished    2.0  \n",
      "44 0 days 00:00:50.753000      Finished    1.0  \n",
      "11 0 days 00:00:51.531000      Finished    0.0  \n",
      "50 0 days 00:00:57.085000      Finished    0.0  \n",
      "77 0 days 00:01:03.588000      Finished    0.0  \n",
      "14 0 days 00:01:18.049000      Finished    0.0  \n",
      "24 0 days 00:01:19.649000      Finished    0.0  \n",
      "55                    NaT      Accident    0.0  \n",
      "43                    NaT      Accident    0.0  \n",
      "23                    NaT      Withdrew    0.0  \n",
      "18                    NaT      Withdrew    0.0  \n",
      "27                    NaT  Disqualified    0.0  \n",
      "\n",
      "[20 rows x 21 columns]\n"
     ]
    }
   ],
   "source": [
    "print(race.results)"
   ]
  },
  {
   "cell_type": "code",
   "execution_count": null,
   "metadata": {},
   "outputs": [
    {
     "name": "stdout",
     "output_type": "stream",
     "text": [
      "['VER', 'OCO', 'GAS', 'RUS', 'LEC', 'NOR', 'TSU', 'PIA', 'LAW', 'HAM', 'PER', 'BEA', 'BOT', 'ALO', 'ZHO', 'SAI', 'COL', 'ALB', 'STR', 'HUL']\n"
     ]
    }
   ],
   "source": [
    "driverNumbers = race.drivers\n",
    "drivers = [race.get_driver(number)['Abbreviation'] for number in driverNumbers]"
   ]
  },
  {
   "cell_type": "code",
   "execution_count": 5,
   "metadata": {},
   "outputs": [
    {
     "name": "stdout",
     "output_type": "stream",
     "text": [
      "Driver: Max Verstappen | Team: Red Bull Racing | Position: 1.0 | Status: Finished | Points: | 26.0\n",
      "Driver: Esteban Ocon | Team: Alpine | Position: 2.0 | Status: Finished | Points: | 18.0\n",
      "Driver: Pierre Gasly | Team: Alpine | Position: 3.0 | Status: Finished | Points: | 15.0\n",
      "Driver: George Russell | Team: Mercedes | Position: 4.0 | Status: Finished | Points: | 12.0\n",
      "Driver: Charles Leclerc | Team: Ferrari | Position: 5.0 | Status: Finished | Points: | 10.0\n",
      "Driver: Lando Norris | Team: McLaren | Position: 6.0 | Status: Finished | Points: | 8.0\n",
      "Driver: Yuki Tsunoda | Team: RB | Position: 7.0 | Status: Finished | Points: | 6.0\n",
      "Driver: Oscar Piastri | Team: McLaren | Position: 8.0 | Status: Finished | Points: | 4.0\n",
      "Driver: Liam Lawson | Team: RB | Position: 9.0 | Status: Finished | Points: | 2.0\n",
      "Driver: Lewis Hamilton | Team: Mercedes | Position: 10.0 | Status: Finished | Points: | 1.0\n",
      "Driver: Sergio Perez | Team: Red Bull Racing | Position: 11.0 | Status: Finished | Points: | 0.0\n",
      "Driver: Oliver Bearman | Team: Haas F1 Team | Position: 12.0 | Status: Finished | Points: | 0.0\n",
      "Driver: Valtteri Bottas | Team: Kick Sauber | Position: 13.0 | Status: Finished | Points: | 0.0\n",
      "Driver: Fernando Alonso | Team: Aston Martin | Position: 14.0 | Status: Finished | Points: | 0.0\n",
      "Driver: Guanyu Zhou | Team: Kick Sauber | Position: 15.0 | Status: Finished | Points: | 0.0\n",
      "Driver: Carlos Sainz | Team: Ferrari | Position: 16.0 | Status: Accident | Points: | 0.0\n",
      "Driver: Franco Colapinto | Team: Williams | Position: 17.0 | Status: Accident | Points: | 0.0\n",
      "Driver: Alexander Albon | Team: Williams | Position: 18.0 | Status: Withdrew | Points: | 0.0\n",
      "Driver: Lance Stroll | Team: Aston Martin | Position: 19.0 | Status: Withdrew | Points: | 0.0\n",
      "Driver: Nico Hulkenberg | Team: Haas F1 Team | Position: 20.0 | Status: Disqualified | Points: | 0.0\n"
     ]
    }
   ],
   "source": [
    "for driver in drivers:\n",
    "    driverName = race.get_driver(driver)['FullName']\n",
    "    teamName = race.get_driver(driver)['TeamName']\n",
    "    position = race.get_driver(driver)['Position']\n",
    "    status = race.get_driver(driver)['Status']\n",
    "    points = race.get_driver(driver)['Points']\n",
    "    \n",
    "    print(f'Driver: {driverName} | Team: {teamName} | Position: {position} | Status: {status} | Points: | {points}')"
   ]
  },
  {
   "cell_type": "code",
   "execution_count": 7,
   "metadata": {},
   "outputs": [
    {
     "name": "stdout",
     "output_type": "stream",
     "text": [
      "Driver: VER | Points: 26.0\n",
      "Driver: OCO | Points: 18.0\n",
      "Driver: GAS | Points: 15.0\n",
      "Driver: RUS | Points: 12.0\n",
      "Driver: LEC | Points: 10.0\n",
      "Driver: NOR | Points: 8.0\n",
      "Driver: TSU | Points: 6.0\n",
      "Driver: PIA | Points: 4.0\n",
      "Driver: LAW | Points: 2.0\n",
      "Driver: HAM | Points: 1.0\n"
     ]
    }
   ],
   "source": [
    "for driver in drivers:\n",
    "            scoring = race.get_driver(driver)['Points']\n",
    "            if scoring > 0:\n",
    "                print(f'Driver: {driver} | Points: {scoring}')"
   ]
  }
 ],
 "metadata": {
  "kernelspec": {
   "display_name": "base",
   "language": "python",
   "name": "python3"
  },
  "language_info": {
   "codemirror_mode": {
    "name": "ipython",
    "version": 3
   },
   "file_extension": ".py",
   "mimetype": "text/x-python",
   "name": "python",
   "nbconvert_exporter": "python",
   "pygments_lexer": "ipython3",
   "version": "3.12.4"
  }
 },
 "nbformat": 4,
 "nbformat_minor": 2
}
