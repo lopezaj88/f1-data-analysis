{
 "cells": [
  {
   "cell_type": "code",
   "execution_count": 5,
   "metadata": {},
   "outputs": [],
   "source": [
    "import fastf1 as ff1\n",
    "from fastf1 import plotting\n",
    "import matplotlib.pyplot as plt\n",
    "from datetime import datetime\n",
    "\n",
    "# Global Variables\n",
    "regulationYear = 2022\n",
    "currentYear = datetime.now().year\n",
    "raceEvent = 'R'"
   ]
  },
  {
   "cell_type": "code",
   "execution_count": null,
   "metadata": {},
   "outputs": [],
   "source": [
    "def raceAnalysis(grandPrix):\n",
    "    # Get all the years that fit within the regulation window\n",
    "    yearList = []\n",
    "    year = regulationYear\n",
    "    while year <= currentYear:\n",
    "        yearList.append(year)\n",
    "        year += 1\n",
    "    \n",
    "    # Begin loading race data for each year \n",
    "    for item in yearList:\n",
    "        race = ff1.get_session(item, grandPrix, raceEvent)\n",
    "        race.load()\n",
    "    "
   ]
  }
 ],
 "metadata": {
  "kernelspec": {
   "display_name": "base",
   "language": "python",
   "name": "python3"
  },
  "language_info": {
   "codemirror_mode": {
    "name": "ipython",
    "version": 3
   },
   "file_extension": ".py",
   "mimetype": "text/x-python",
   "name": "python",
   "nbconvert_exporter": "python",
   "pygments_lexer": "ipython3",
   "version": "3.12.4"
  }
 },
 "nbformat": 4,
 "nbformat_minor": 2
}
